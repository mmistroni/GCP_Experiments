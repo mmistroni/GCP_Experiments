{
  "nbformat": 4,
  "nbformat_minor": 0,
  "metadata": {
    "colab": {
      "provenance": [],
      "authorship_tag": "ABX9TyMexZiZ3TaLpgjEuq1ih8AZ",
      "include_colab_link": true
    },
    "kernelspec": {
      "name": "python3",
      "display_name": "Python 3"
    },
    "language_info": {
      "name": "python"
    }
  },
  "cells": [
    {
      "cell_type": "markdown",
      "metadata": {
        "id": "view-in-github",
        "colab_type": "text"
      },
      "source": [
        "<a href=\"https://colab.research.google.com/github/mmistroni/GCP_Experiments/blob/master/OBBAgentExample.ipynb\" target=\"_parent\"><img src=\"https://colab.research.google.com/assets/colab-badge.svg\" alt=\"Open In Colab\"/></a>"
      ]
    },
    {
      "cell_type": "code",
      "execution_count": 6,
      "metadata": {
        "colab": {
          "base_uri": "https://localhost:8080/"
        },
        "id": "KSjj5Lqvfc9k",
        "outputId": "99563ed0-e58c-4dc4-b01d-02ebd8f3a473"
      },
      "outputs": [
        {
          "output_type": "stream",
          "name": "stdout",
          "text": [
            "\u001b[31mERROR: Ignored the following versions that require a different python version: 0.0.0 Requires-Python >=3.11,<3.12; 0.0.1 Requires-Python >=3.11,<3.12; 0.0.1a0 Requires-Python >=3.11,<3.12\u001b[0m\u001b[31m\n",
            "\u001b[0m\u001b[31mERROR: Could not find a version that satisfies the requirement openbb-agents (from versions: none)\u001b[0m\u001b[31m\n",
            "\u001b[0m\u001b[31mERROR: No matching distribution found for openbb-agents\u001b[0m\u001b[31m\n",
            "\u001b[0m"
          ]
        }
      ],
      "source": [
        "!pip install -q -U openbb-agents"
      ]
    },
    {
      "cell_type": "code",
      "source": [
        "!pip install -q -U google-generativeai\n"
      ],
      "metadata": {
        "id": "nHcCt3ctCMmO"
      },
      "execution_count": 4,
      "outputs": []
    },
    {
      "cell_type": "markdown",
      "source": [
        "## Google AI STUDIO"
      ],
      "metadata": {
        "id": "prIrjcYpBlgU"
      }
    },
    {
      "cell_type": "markdown",
      "source": [],
      "metadata": {
        "id": "A2ru9ZclBkzU"
      }
    },
    {
      "cell_type": "code",
      "source": [
        "import google.generativeai as genai\n",
        "\n",
        "genai.configure(api_key=gkey)\n",
        "model = genai.GenerativeModel('gemini-pro')"
      ],
      "metadata": {
        "id": "e9NMdFG8B0IT"
      },
      "execution_count": 6,
      "outputs": []
    },
    {
      "cell_type": "code",
      "source": [
        "response = model.generate_content(\"Write a story about a magic backpack.\")\n",
        "print(response.text)"
      ],
      "metadata": {
        "colab": {
          "base_uri": "https://localhost:8080/",
          "height": 263
        },
        "id": "K7us80yuCKh3",
        "outputId": "48999d7f-f492-4a48-d69f-d9438b8a607c"
      },
      "execution_count": 17,
      "outputs": [
        {
          "output_type": "stream",
          "name": "stdout",
          "text": [
            "In the heart of a bustling metropolis, amidst the hustle and bustle of daily life, resided an extraordinary backpack named Atlas. Crafted from a shimmering iridescent fabric that seemed to dance with the light, Atlas possessed a secret that set him apart from all other backpacks. He was imbued with a profound enchantment, granted to him by an enigmatic sorceress long ago.\n",
            "\n",
            "With a whisper, the words \"Patrones Revelare\" would unravel Atlas's true purpose. And when those words were uttered, a surge of ethereal energy coursed through the backpack, revealing its hidden compartments. Within these mystical chambers lay an array of seemingly ordinary items, each imbued with a potent enchantment.\n",
            "\n",
            "There was a silvery compass that could guide one through any labyrinth, a flashlight that illuminated even the darkest corners with its otherworldly glow, and a notebook with pages that seemed to absorb knowledge from the air itself. A collapsible tent provided shelter from the elements, and a first-aid kit healed wounds with astonishing speed.\n",
            "\n",
            "As the city slumbered, Iris, a bright-eyed and inquisitive young girl, stumbled upon Atlas in an antique shop. Intrigued by its enigmatic aura, she couldn't resist purchasing it. Little did she know that this serendipitous encounter would forever alter the course of her life.\n",
            "\n",
            "Iris soon discovered the backpack's magical secrets and embarked on a series of extraordinary adventures. Guided by Atlas's compass, she ventured into uncharted territories, unraveling ancient mysteries and meeting fascinating creatures. With Atlas's flashlight, she illuminated the path of lost souls and dispelled the darkness that lurked in the hearts of humans.\n",
            "\n",
            "The notebook became her loyal companion, faithfully recording her experiences and insights. It whispered secrets to her, revealing the hidden truths that others failed to see. The tent offered sanctuary from the storms of life, a place where she could rest and recharge. And in times of distress, the first-aid kit mended her broken spirit, restoring her hope and resilience.\n",
            "\n",
            "Atlas became more than just a backpack to Iris. He was a confidant, a guide, and a source of limitless possibilities. Together, they soared through the skies, explored the depths of the ocean, and touched the lives of countless beings. The ordinary backpack had transformed into an extraordinary companion, proving that even in the most mundane of objects, magic could be found.\n"
          ]
        }
      ]
    },
    {
      "cell_type": "code",
      "source": [
        "!nvidia-smi"
      ],
      "metadata": {
        "colab": {
          "base_uri": "https://localhost:8080/"
        },
        "id": "Q4Hm5F2wCjQF",
        "outputId": "510c62cf-e7f4-47cd-c3c3-1a933e7a60ba"
      },
      "execution_count": 3,
      "outputs": [
        {
          "output_type": "stream",
          "name": "stdout",
          "text": [
            "/bin/bash: line 1: nvidia-smi: command not found\n"
          ]
        }
      ]
    },
    {
      "cell_type": "code",
      "source": [],
      "metadata": {
        "id": "Mp5Kc13t2k7N"
      },
      "execution_count": null,
      "outputs": []
    }
  ]
}