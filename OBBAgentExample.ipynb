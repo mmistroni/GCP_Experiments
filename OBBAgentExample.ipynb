{
  "nbformat": 4,
  "nbformat_minor": 0,
  "metadata": {
    "colab": {
      "provenance": [],
      "authorship_tag": "ABX9TyOKpA5kZQ90bEHswc/sg/Fr",
      "include_colab_link": true
    },
    "kernelspec": {
      "name": "python3",
      "display_name": "Python 3"
    },
    "language_info": {
      "name": "python"
    }
  },
  "cells": [
    {
      "cell_type": "markdown",
      "metadata": {
        "id": "view-in-github",
        "colab_type": "text"
      },
      "source": [
        "<a href=\"https://colab.research.google.com/github/mmistroni/GCP_Experiments/blob/master/OBBAgentExample.ipynb\" target=\"_parent\"><img src=\"https://colab.research.google.com/assets/colab-badge.svg\" alt=\"Open In Colab\"/></a>"
      ]
    },
    {
      "cell_type": "code",
      "execution_count": null,
      "metadata": {
        "id": "KSjj5Lqvfc9k"
      },
      "outputs": [],
      "source": [
        "!pip install openbb-agents"
      ]
    },
    {
      "cell_type": "markdown",
      "source": [
        "## Google AI STUDIO"
      ],
      "metadata": {
        "id": "prIrjcYpBlgU"
      }
    },
    {
      "cell_type": "markdown",
      "source": [],
      "metadata": {
        "id": "A2ru9ZclBkzU"
      }
    },
    {
      "cell_type": "code",
      "source": [
        "from google.colab import userdata\n",
        "gkey  = userdata.get('GOOGLE_AI_KEY')"
      ],
      "metadata": {
        "id": "7m8QKcjNfn3t"
      },
      "execution_count": 2,
      "outputs": []
    },
    {
      "cell_type": "code",
      "source": [],
      "metadata": {
        "id": "e9NMdFG8B0IT"
      },
      "execution_count": null,
      "outputs": []
    }
  ]
}